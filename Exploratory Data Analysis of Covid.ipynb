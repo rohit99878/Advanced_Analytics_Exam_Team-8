{
 "cells": [
  {
   "cell_type": "code",
   "execution_count": 1,
   "id": "6d5c6796",
   "metadata": {},
   "outputs": [],
   "source": [
    "import pandas as pd\n",
    "import numpy as np\n",
    "import matplotlib.pyplot as plt"
   ]
  },
  {
   "cell_type": "code",
   "execution_count": 2,
   "id": "92ba8540",
   "metadata": {},
   "outputs": [],
   "source": [
    "## Reading csv file"
   ]
  },
  {
   "cell_type": "code",
   "execution_count": 3,
   "id": "7d3f9cab",
   "metadata": {},
   "outputs": [],
   "source": [
    "df= pd.read_csv(\"forecasts_custom_prophet1.csv\")"
   ]
  },
  {
   "cell_type": "code",
   "execution_count": 4,
   "id": "c4b1a6c6",
   "metadata": {},
   "outputs": [
    {
     "data": {
      "text/html": [
       "<div>\n",
       "<style scoped>\n",
       "    .dataframe tbody tr th:only-of-type {\n",
       "        vertical-align: middle;\n",
       "    }\n",
       "\n",
       "    .dataframe tbody tr th {\n",
       "        vertical-align: top;\n",
       "    }\n",
       "\n",
       "    .dataframe thead th {\n",
       "        text-align: right;\n",
       "    }\n",
       "</style>\n",
       "<table border=\"1\" class=\"dataframe\">\n",
       "  <thead>\n",
       "    <tr style=\"text-align: right;\">\n",
       "      <th></th>\n",
       "      <th>ObservationDate</th>\n",
       "      <th>Province/State</th>\n",
       "      <th>Country/Region</th>\n",
       "      <th>Confirmed</th>\n",
       "      <th>Deaths</th>\n",
       "      <th>Recovered</th>\n",
       "    </tr>\n",
       "  </thead>\n",
       "  <tbody>\n",
       "    <tr>\n",
       "      <th>0</th>\n",
       "      <td>04-06-2020 00:00</td>\n",
       "      <td>New South Wales</td>\n",
       "      <td>Australia</td>\n",
       "      <td>4019</td>\n",
       "      <td>51</td>\n",
       "      <td>3321</td>\n",
       "    </tr>\n",
       "    <tr>\n",
       "      <th>1</th>\n",
       "      <td>05-06-2020 00:00</td>\n",
       "      <td>New South Wales</td>\n",
       "      <td>Australia</td>\n",
       "      <td>4082</td>\n",
       "      <td>51</td>\n",
       "      <td>3465</td>\n",
       "    </tr>\n",
       "    <tr>\n",
       "      <th>2</th>\n",
       "      <td>06-06-2020 00:00</td>\n",
       "      <td>New South Wales</td>\n",
       "      <td>Australia</td>\n",
       "      <td>4075</td>\n",
       "      <td>52</td>\n",
       "      <td>3494</td>\n",
       "    </tr>\n",
       "    <tr>\n",
       "      <th>3</th>\n",
       "      <td>07-06-2020 00:00</td>\n",
       "      <td>New South Wales</td>\n",
       "      <td>Australia</td>\n",
       "      <td>4085</td>\n",
       "      <td>53</td>\n",
       "      <td>3493</td>\n",
       "    </tr>\n",
       "    <tr>\n",
       "      <th>4</th>\n",
       "      <td>08-06-2020 00:00</td>\n",
       "      <td>New South Wales</td>\n",
       "      <td>Australia</td>\n",
       "      <td>4121</td>\n",
       "      <td>53</td>\n",
       "      <td>3480</td>\n",
       "    </tr>\n",
       "    <tr>\n",
       "      <th>5</th>\n",
       "      <td>09-06-2020 00:00</td>\n",
       "      <td>New South Wales</td>\n",
       "      <td>Australia</td>\n",
       "      <td>4107</td>\n",
       "      <td>53</td>\n",
       "      <td>3457</td>\n",
       "    </tr>\n",
       "    <tr>\n",
       "      <th>6</th>\n",
       "      <td>10-06-2020 00:00</td>\n",
       "      <td>New South Wales</td>\n",
       "      <td>Australia</td>\n",
       "      <td>4112</td>\n",
       "      <td>53</td>\n",
       "      <td>3494</td>\n",
       "    </tr>\n",
       "    <tr>\n",
       "      <th>7</th>\n",
       "      <td>04-06-2020 00:00</td>\n",
       "      <td>Victoria</td>\n",
       "      <td>Australia</td>\n",
       "      <td>1995</td>\n",
       "      <td>24</td>\n",
       "      <td>1829</td>\n",
       "    </tr>\n",
       "    <tr>\n",
       "      <th>8</th>\n",
       "      <td>05-06-2020 00:00</td>\n",
       "      <td>Victoria</td>\n",
       "      <td>Australia</td>\n",
       "      <td>2011</td>\n",
       "      <td>24</td>\n",
       "      <td>1888</td>\n",
       "    </tr>\n",
       "    <tr>\n",
       "      <th>9</th>\n",
       "      <td>06-06-2020 00:00</td>\n",
       "      <td>Victoria</td>\n",
       "      <td>Australia</td>\n",
       "      <td>2021</td>\n",
       "      <td>24</td>\n",
       "      <td>1826</td>\n",
       "    </tr>\n",
       "  </tbody>\n",
       "</table>\n",
       "</div>"
      ],
      "text/plain": [
       "    ObservationDate   Province/State Country/Region  Confirmed  Deaths  \\\n",
       "0  04-06-2020 00:00  New South Wales      Australia       4019      51   \n",
       "1  05-06-2020 00:00  New South Wales      Australia       4082      51   \n",
       "2  06-06-2020 00:00  New South Wales      Australia       4075      52   \n",
       "3  07-06-2020 00:00  New South Wales      Australia       4085      53   \n",
       "4  08-06-2020 00:00  New South Wales      Australia       4121      53   \n",
       "5  09-06-2020 00:00  New South Wales      Australia       4107      53   \n",
       "6  10-06-2020 00:00  New South Wales      Australia       4112      53   \n",
       "7  04-06-2020 00:00         Victoria      Australia       1995      24   \n",
       "8  05-06-2020 00:00         Victoria      Australia       2011      24   \n",
       "9  06-06-2020 00:00         Victoria      Australia       2021      24   \n",
       "\n",
       "   Recovered  \n",
       "0       3321  \n",
       "1       3465  \n",
       "2       3494  \n",
       "3       3493  \n",
       "4       3480  \n",
       "5       3457  \n",
       "6       3494  \n",
       "7       1829  \n",
       "8       1888  \n",
       "9       1826  "
      ]
     },
     "execution_count": 4,
     "metadata": {},
     "output_type": "execute_result"
    }
   ],
   "source": [
    "df.head(10)"
   ]
  },
  {
   "cell_type": "code",
   "execution_count": 5,
   "id": "5c36d646",
   "metadata": {},
   "outputs": [
    {
     "data": {
      "text/plain": [
       "(4389, 6)"
      ]
     },
     "execution_count": 5,
     "metadata": {},
     "output_type": "execute_result"
    }
   ],
   "source": [
    "df.shape"
   ]
  },
  {
   "cell_type": "code",
   "execution_count": 6,
   "id": "25d1eb6e",
   "metadata": {},
   "outputs": [],
   "source": [
    "## Printing column names"
   ]
  },
  {
   "cell_type": "code",
   "execution_count": 7,
   "id": "a56143eb",
   "metadata": {},
   "outputs": [
    {
     "data": {
      "text/plain": [
       "Index(['ObservationDate', 'Province/State', 'Country/Region', 'Confirmed',\n",
       "       'Deaths', 'Recovered'],\n",
       "      dtype='object')"
      ]
     },
     "execution_count": 7,
     "metadata": {},
     "output_type": "execute_result"
    }
   ],
   "source": [
    "df.columns"
   ]
  },
  {
   "cell_type": "code",
   "execution_count": null,
   "id": "c8cf6a7c",
   "metadata": {},
   "outputs": [],
   "source": []
  },
  {
   "cell_type": "code",
   "execution_count": null,
   "id": "6c8da86f",
   "metadata": {},
   "outputs": [],
   "source": [
    "#EDA"
   ]
  },
  {
   "cell_type": "code",
   "execution_count": null,
   "id": "18faf845",
   "metadata": {},
   "outputs": [],
   "source": []
  },
  {
   "cell_type": "code",
   "execution_count": 8,
   "id": "d07dd04d",
   "metadata": {},
   "outputs": [
    {
     "name": "stdout",
     "output_type": "stream",
     "text": [
      "ObservationDate    0.0\n",
      "Province/State     0.0\n",
      "Country/Region     0.0\n",
      "Confirmed          0.0\n",
      "Deaths             0.0\n",
      "Recovered          0.0\n",
      "dtype: float64\n"
     ]
    }
   ],
   "source": [
    "## Checking null values\n",
    "\n",
    "print((df.isnull().sum()/df.shape[0])*100)"
   ]
  },
  {
   "cell_type": "code",
   "execution_count": 9,
   "id": "e6f300d3",
   "metadata": {},
   "outputs": [
    {
     "data": {
      "text/plain": [
       "ObservationDate    object\n",
       "Province/State     object\n",
       "Country/Region     object\n",
       "Confirmed           int64\n",
       "Deaths              int64\n",
       "Recovered           int64\n",
       "dtype: object"
      ]
     },
     "execution_count": 9,
     "metadata": {},
     "output_type": "execute_result"
    }
   ],
   "source": [
    "df.dtypes"
   ]
  },
  {
   "cell_type": "code",
   "execution_count": null,
   "id": "1b40b6fd",
   "metadata": {},
   "outputs": [],
   "source": []
  },
  {
   "cell_type": "code",
   "execution_count": 10,
   "id": "aee9125b",
   "metadata": {},
   "outputs": [],
   "source": [
    "\n",
    "list1 = ['ObservationDate','Province/State','Country/Region','Confirmed','Deaths','Recovered']"
   ]
  },
  {
   "cell_type": "code",
   "execution_count": 11,
   "id": "0cc2b3b7",
   "metadata": {},
   "outputs": [
    {
     "name": "stdout",
     "output_type": "stream",
     "text": [
      "Column name :- ObservationDate \n",
      "\n",
      "0    46.138072\n",
      "Name: ObservationDate, dtype: float64\n",
      "******************************************************\n",
      "Column name :- Province/State \n",
      "\n",
      "0    46.138072\n",
      "Name: Province/State, dtype: float64\n",
      "******************************************************\n",
      "Column name :- Country/Region \n",
      "\n",
      "0    46.138072\n",
      "Name: Country/Region, dtype: float64\n",
      "******************************************************\n",
      "Column name :- Confirmed \n",
      "\n",
      "0    47.391205\n",
      "Name: Confirmed, dtype: float64\n",
      "******************************************************\n",
      "Column name :- Deaths \n",
      "\n",
      "0    68.215995\n",
      "Name: Deaths, dtype: float64\n",
      "******************************************************\n",
      "Column name :- Recovered \n",
      "\n",
      "0    73.274094\n",
      "Name: Recovered, dtype: float64\n",
      "******************************************************\n"
     ]
    }
   ],
   "source": [
    "for i in list1:\n",
    "    print(\"Column name :-\",i,\"\\n\")\n",
    "    print(df[i].value_counts().head(1)/df.shape[0]*100)\n",
    "    print(\"******************************************************\")"
   ]
  },
  {
   "cell_type": "code",
   "execution_count": 12,
   "id": "a46f77e6",
   "metadata": {},
   "outputs": [],
   "source": [
    "df1 = df"
   ]
  },
  {
   "cell_type": "code",
   "execution_count": 13,
   "id": "3e3f2004",
   "metadata": {},
   "outputs": [],
   "source": [
    "for i in list1:\n",
    "    df1.drop(df1.index[df1[i] == '0'], inplace=True)"
   ]
  },
  {
   "cell_type": "code",
   "execution_count": 14,
   "id": "15b024f1",
   "metadata": {},
   "outputs": [
    {
     "data": {
      "text/plain": [
       "(2364, 6)"
      ]
     },
     "execution_count": 14,
     "metadata": {},
     "output_type": "execute_result"
    }
   ],
   "source": [
    "df1.shape"
   ]
  },
  {
   "cell_type": "code",
   "execution_count": 15,
   "id": "d7bf05a7",
   "metadata": {},
   "outputs": [
    {
     "data": {
      "text/html": [
       "<div>\n",
       "<style scoped>\n",
       "    .dataframe tbody tr th:only-of-type {\n",
       "        vertical-align: middle;\n",
       "    }\n",
       "\n",
       "    .dataframe tbody tr th {\n",
       "        vertical-align: top;\n",
       "    }\n",
       "\n",
       "    .dataframe thead th {\n",
       "        text-align: right;\n",
       "    }\n",
       "</style>\n",
       "<table border=\"1\" class=\"dataframe\">\n",
       "  <thead>\n",
       "    <tr style=\"text-align: right;\">\n",
       "      <th></th>\n",
       "      <th>ObservationDate</th>\n",
       "      <th>Province/State</th>\n",
       "      <th>Country/Region</th>\n",
       "      <th>Confirmed</th>\n",
       "      <th>Deaths</th>\n",
       "      <th>Recovered</th>\n",
       "    </tr>\n",
       "  </thead>\n",
       "  <tbody>\n",
       "    <tr>\n",
       "      <th>4337</th>\n",
       "      <td>08-06-2020 00:00</td>\n",
       "      <td>Sevastopol*</td>\n",
       "      <td>Ukraine</td>\n",
       "      <td>5249</td>\n",
       "      <td>3</td>\n",
       "      <td>1142</td>\n",
       "    </tr>\n",
       "    <tr>\n",
       "      <th>4350</th>\n",
       "      <td>07-06-2020 00:00</td>\n",
       "      <td>Ternopil Oblast</td>\n",
       "      <td>Ukraine</td>\n",
       "      <td>40536</td>\n",
       "      <td>26</td>\n",
       "      <td>31015</td>\n",
       "    </tr>\n",
       "    <tr>\n",
       "      <th>4351</th>\n",
       "      <td>08-06-2020 00:00</td>\n",
       "      <td>Ternopil Oblast</td>\n",
       "      <td>Ukraine</td>\n",
       "      <td>26215</td>\n",
       "      <td>26</td>\n",
       "      <td>3816</td>\n",
       "    </tr>\n",
       "    <tr>\n",
       "      <th>4352</th>\n",
       "      <td>09-06-2020 00:00</td>\n",
       "      <td>Ternopil Oblast</td>\n",
       "      <td>Ukraine</td>\n",
       "      <td>18722</td>\n",
       "      <td>26</td>\n",
       "      <td>14928</td>\n",
       "    </tr>\n",
       "    <tr>\n",
       "      <th>4353</th>\n",
       "      <td>10-06-2020 00:00</td>\n",
       "      <td>Ternopil Oblast</td>\n",
       "      <td>Ukraine</td>\n",
       "      <td>12739</td>\n",
       "      <td>26</td>\n",
       "      <td>6329</td>\n",
       "    </tr>\n",
       "    <tr>\n",
       "      <th>4354</th>\n",
       "      <td>04-06-2020 00:00</td>\n",
       "      <td>Vinnytsia Oblast</td>\n",
       "      <td>Ukraine</td>\n",
       "      <td>571</td>\n",
       "      <td>16</td>\n",
       "      <td>427</td>\n",
       "    </tr>\n",
       "    <tr>\n",
       "      <th>4362</th>\n",
       "      <td>05-06-2020 00:00</td>\n",
       "      <td>Volyn Oblast</td>\n",
       "      <td>Ukraine</td>\n",
       "      <td>29283</td>\n",
       "      <td>477</td>\n",
       "      <td>476</td>\n",
       "    </tr>\n",
       "    <tr>\n",
       "      <th>4373</th>\n",
       "      <td>09-06-2020 00:00</td>\n",
       "      <td>Zakarpattia Oblast</td>\n",
       "      <td>Ukraine</td>\n",
       "      <td>9376</td>\n",
       "      <td>28</td>\n",
       "      <td>1758</td>\n",
       "    </tr>\n",
       "    <tr>\n",
       "      <th>4374</th>\n",
       "      <td>10-06-2020 00:00</td>\n",
       "      <td>Zakarpattia Oblast</td>\n",
       "      <td>Ukraine</td>\n",
       "      <td>9084</td>\n",
       "      <td>28</td>\n",
       "      <td>1641</td>\n",
       "    </tr>\n",
       "    <tr>\n",
       "      <th>4379</th>\n",
       "      <td>08-06-2020 00:00</td>\n",
       "      <td>Zaporizhia Oblast</td>\n",
       "      <td>Ukraine</td>\n",
       "      <td>11637</td>\n",
       "      <td>13</td>\n",
       "      <td>2339</td>\n",
       "    </tr>\n",
       "  </tbody>\n",
       "</table>\n",
       "</div>"
      ],
      "text/plain": [
       "       ObservationDate      Province/State Country/Region  Confirmed  Deaths  \\\n",
       "4337  08-06-2020 00:00         Sevastopol*        Ukraine       5249       3   \n",
       "4350  07-06-2020 00:00     Ternopil Oblast        Ukraine      40536      26   \n",
       "4351  08-06-2020 00:00     Ternopil Oblast        Ukraine      26215      26   \n",
       "4352  09-06-2020 00:00     Ternopil Oblast        Ukraine      18722      26   \n",
       "4353  10-06-2020 00:00     Ternopil Oblast        Ukraine      12739      26   \n",
       "4354  04-06-2020 00:00    Vinnytsia Oblast        Ukraine        571      16   \n",
       "4362  05-06-2020 00:00        Volyn Oblast        Ukraine      29283     477   \n",
       "4373  09-06-2020 00:00  Zakarpattia Oblast        Ukraine       9376      28   \n",
       "4374  10-06-2020 00:00  Zakarpattia Oblast        Ukraine       9084      28   \n",
       "4379  08-06-2020 00:00   Zaporizhia Oblast        Ukraine      11637      13   \n",
       "\n",
       "      Recovered  \n",
       "4337       1142  \n",
       "4350      31015  \n",
       "4351       3816  \n",
       "4352      14928  \n",
       "4353       6329  \n",
       "4354        427  \n",
       "4362        476  \n",
       "4373       1758  \n",
       "4374       1641  \n",
       "4379       2339  "
      ]
     },
     "execution_count": 15,
     "metadata": {},
     "output_type": "execute_result"
    }
   ],
   "source": [
    "df1.tail(10)"
   ]
  },
  {
   "cell_type": "code",
   "execution_count": null,
   "id": "f9ff7aac",
   "metadata": {},
   "outputs": [],
   "source": []
  },
  {
   "cell_type": "code",
   "execution_count": 16,
   "id": "6524d193",
   "metadata": {},
   "outputs": [
    {
     "data": {
      "text/html": [
       "<div>\n",
       "<style scoped>\n",
       "    .dataframe tbody tr th:only-of-type {\n",
       "        vertical-align: middle;\n",
       "    }\n",
       "\n",
       "    .dataframe tbody tr th {\n",
       "        vertical-align: top;\n",
       "    }\n",
       "\n",
       "    .dataframe thead th {\n",
       "        text-align: right;\n",
       "    }\n",
       "</style>\n",
       "<table border=\"1\" class=\"dataframe\">\n",
       "  <thead>\n",
       "    <tr style=\"text-align: right;\">\n",
       "      <th></th>\n",
       "      <th>Confirmed</th>\n",
       "      <th>Deaths</th>\n",
       "      <th>Recovered</th>\n",
       "    </tr>\n",
       "  </thead>\n",
       "  <tbody>\n",
       "    <tr>\n",
       "      <th>count</th>\n",
       "      <td>2.364000e+03</td>\n",
       "      <td>2364.000000</td>\n",
       "      <td>2.364000e+03</td>\n",
       "    </tr>\n",
       "    <tr>\n",
       "      <th>mean</th>\n",
       "      <td>2.363147e+04</td>\n",
       "      <td>1209.284687</td>\n",
       "      <td>2.546793e+04</td>\n",
       "    </tr>\n",
       "    <tr>\n",
       "      <th>std</th>\n",
       "      <td>1.368274e+05</td>\n",
       "      <td>10152.904756</td>\n",
       "      <td>2.224601e+05</td>\n",
       "    </tr>\n",
       "    <tr>\n",
       "      <th>min</th>\n",
       "      <td>0.000000e+00</td>\n",
       "      <td>0.000000</td>\n",
       "      <td>0.000000e+00</td>\n",
       "    </tr>\n",
       "    <tr>\n",
       "      <th>25%</th>\n",
       "      <td>6.000000e+00</td>\n",
       "      <td>0.000000</td>\n",
       "      <td>0.000000e+00</td>\n",
       "    </tr>\n",
       "    <tr>\n",
       "      <th>50%</th>\n",
       "      <td>1.940000e+02</td>\n",
       "      <td>3.000000</td>\n",
       "      <td>0.000000e+00</td>\n",
       "    </tr>\n",
       "    <tr>\n",
       "      <th>75%</th>\n",
       "      <td>7.986750e+03</td>\n",
       "      <td>143.250000</td>\n",
       "      <td>4.400000e+02</td>\n",
       "    </tr>\n",
       "    <tr>\n",
       "      <th>max</th>\n",
       "      <td>3.242818e+06</td>\n",
       "      <td>382980.000000</td>\n",
       "      <td>4.657437e+06</td>\n",
       "    </tr>\n",
       "  </tbody>\n",
       "</table>\n",
       "</div>"
      ],
      "text/plain": [
       "          Confirmed         Deaths     Recovered\n",
       "count  2.364000e+03    2364.000000  2.364000e+03\n",
       "mean   2.363147e+04    1209.284687  2.546793e+04\n",
       "std    1.368274e+05   10152.904756  2.224601e+05\n",
       "min    0.000000e+00       0.000000  0.000000e+00\n",
       "25%    6.000000e+00       0.000000  0.000000e+00\n",
       "50%    1.940000e+02       3.000000  0.000000e+00\n",
       "75%    7.986750e+03     143.250000  4.400000e+02\n",
       "max    3.242818e+06  382980.000000  4.657437e+06"
      ]
     },
     "execution_count": 16,
     "metadata": {},
     "output_type": "execute_result"
    }
   ],
   "source": [
    "df1.describe()"
   ]
  },
  {
   "cell_type": "code",
   "execution_count": null,
   "id": "8a546687",
   "metadata": {},
   "outputs": [],
   "source": []
  },
  {
   "cell_type": "code",
   "execution_count": 17,
   "id": "f174a4d7",
   "metadata": {},
   "outputs": [
    {
     "name": "stdout",
     "output_type": "stream",
     "text": [
      "Column name :-  Confirmed\n",
      "1        389\n",
      "2         63\n",
      "0         55\n",
      "6         36\n",
      "3         30\n",
      "        ... \n",
      "797        1\n",
      "3869       1\n",
      "50340      1\n",
      "45441      1\n",
      "11637      1\n",
      "Name: Confirmed, Length: 1226, dtype: int64\n",
      "*********\n",
      "Column name :-  Deaths\n",
      "0        969\n",
      "1        138\n",
      "3         72\n",
      "2         56\n",
      "6         45\n",
      "        ... \n",
      "24124      1\n",
      "3369       1\n",
      "1453       1\n",
      "501        1\n",
      "388        1\n",
      "Name: Deaths, Length: 632, dtype: int64\n",
      "*********\n",
      "Column name :-  Recovered\n",
      "0       1191\n",
      "1         45\n",
      "16        22\n",
      "4         21\n",
      "17        15\n",
      "        ... \n",
      "4454       1\n",
      "1093       1\n",
      "684        1\n",
      "229        1\n",
      "2339       1\n",
      "Name: Recovered, Length: 765, dtype: int64\n",
      "*********\n"
     ]
    }
   ],
   "source": [
    "list2 = ['Confirmed','Deaths','Recovered']\n",
    "\n",
    "for i in list2:\n",
    "    \n",
    "    print(\"Column name :- \",i)\n",
    "    print(df1[i].value_counts())\n",
    "    print(\"*********\")"
   ]
  },
  {
   "cell_type": "code",
   "execution_count": 18,
   "id": "bba95d95",
   "metadata": {},
   "outputs": [
    {
     "data": {
      "text/plain": [
       "(2364, 6)"
      ]
     },
     "execution_count": 18,
     "metadata": {},
     "output_type": "execute_result"
    }
   ],
   "source": [
    "df1.shape"
   ]
  },
  {
   "cell_type": "code",
   "execution_count": 19,
   "id": "70fbdb58",
   "metadata": {},
   "outputs": [],
   "source": [
    "## Removing timestamp from date column\n",
    "\n",
    "df1['ObservationDate'] = df1['ObservationDate'].apply(lambda row : row.replace(\" 00:00\",\"\"))"
   ]
  },
  {
   "cell_type": "code",
   "execution_count": 20,
   "id": "df6f38ef",
   "metadata": {},
   "outputs": [
    {
     "data": {
      "text/html": [
       "<div>\n",
       "<style scoped>\n",
       "    .dataframe tbody tr th:only-of-type {\n",
       "        vertical-align: middle;\n",
       "    }\n",
       "\n",
       "    .dataframe tbody tr th {\n",
       "        vertical-align: top;\n",
       "    }\n",
       "\n",
       "    .dataframe thead th {\n",
       "        text-align: right;\n",
       "    }\n",
       "</style>\n",
       "<table border=\"1\" class=\"dataframe\">\n",
       "  <thead>\n",
       "    <tr style=\"text-align: right;\">\n",
       "      <th></th>\n",
       "      <th>ObservationDate</th>\n",
       "      <th>Province/State</th>\n",
       "      <th>Country/Region</th>\n",
       "      <th>Confirmed</th>\n",
       "      <th>Deaths</th>\n",
       "      <th>Recovered</th>\n",
       "    </tr>\n",
       "  </thead>\n",
       "  <tbody>\n",
       "    <tr>\n",
       "      <th>0</th>\n",
       "      <td>04-06-2020</td>\n",
       "      <td>New South Wales</td>\n",
       "      <td>Australia</td>\n",
       "      <td>4019</td>\n",
       "      <td>51</td>\n",
       "      <td>3321</td>\n",
       "    </tr>\n",
       "    <tr>\n",
       "      <th>1</th>\n",
       "      <td>05-06-2020</td>\n",
       "      <td>New South Wales</td>\n",
       "      <td>Australia</td>\n",
       "      <td>4082</td>\n",
       "      <td>51</td>\n",
       "      <td>3465</td>\n",
       "    </tr>\n",
       "    <tr>\n",
       "      <th>2</th>\n",
       "      <td>06-06-2020</td>\n",
       "      <td>New South Wales</td>\n",
       "      <td>Australia</td>\n",
       "      <td>4075</td>\n",
       "      <td>52</td>\n",
       "      <td>3494</td>\n",
       "    </tr>\n",
       "    <tr>\n",
       "      <th>3</th>\n",
       "      <td>07-06-2020</td>\n",
       "      <td>New South Wales</td>\n",
       "      <td>Australia</td>\n",
       "      <td>4085</td>\n",
       "      <td>53</td>\n",
       "      <td>3493</td>\n",
       "    </tr>\n",
       "    <tr>\n",
       "      <th>4</th>\n",
       "      <td>08-06-2020</td>\n",
       "      <td>New South Wales</td>\n",
       "      <td>Australia</td>\n",
       "      <td>4121</td>\n",
       "      <td>53</td>\n",
       "      <td>3480</td>\n",
       "    </tr>\n",
       "    <tr>\n",
       "      <th>...</th>\n",
       "      <td>...</td>\n",
       "      <td>...</td>\n",
       "      <td>...</td>\n",
       "      <td>...</td>\n",
       "      <td>...</td>\n",
       "      <td>...</td>\n",
       "    </tr>\n",
       "    <tr>\n",
       "      <th>4354</th>\n",
       "      <td>04-06-2020</td>\n",
       "      <td>Vinnytsia Oblast</td>\n",
       "      <td>Ukraine</td>\n",
       "      <td>571</td>\n",
       "      <td>16</td>\n",
       "      <td>427</td>\n",
       "    </tr>\n",
       "    <tr>\n",
       "      <th>4362</th>\n",
       "      <td>05-06-2020</td>\n",
       "      <td>Volyn Oblast</td>\n",
       "      <td>Ukraine</td>\n",
       "      <td>29283</td>\n",
       "      <td>477</td>\n",
       "      <td>476</td>\n",
       "    </tr>\n",
       "    <tr>\n",
       "      <th>4373</th>\n",
       "      <td>09-06-2020</td>\n",
       "      <td>Zakarpattia Oblast</td>\n",
       "      <td>Ukraine</td>\n",
       "      <td>9376</td>\n",
       "      <td>28</td>\n",
       "      <td>1758</td>\n",
       "    </tr>\n",
       "    <tr>\n",
       "      <th>4374</th>\n",
       "      <td>10-06-2020</td>\n",
       "      <td>Zakarpattia Oblast</td>\n",
       "      <td>Ukraine</td>\n",
       "      <td>9084</td>\n",
       "      <td>28</td>\n",
       "      <td>1641</td>\n",
       "    </tr>\n",
       "    <tr>\n",
       "      <th>4379</th>\n",
       "      <td>08-06-2020</td>\n",
       "      <td>Zaporizhia Oblast</td>\n",
       "      <td>Ukraine</td>\n",
       "      <td>11637</td>\n",
       "      <td>13</td>\n",
       "      <td>2339</td>\n",
       "    </tr>\n",
       "  </tbody>\n",
       "</table>\n",
       "<p>2364 rows × 6 columns</p>\n",
       "</div>"
      ],
      "text/plain": [
       "     ObservationDate      Province/State Country/Region  Confirmed  Deaths  \\\n",
       "0         04-06-2020     New South Wales      Australia       4019      51   \n",
       "1         05-06-2020     New South Wales      Australia       4082      51   \n",
       "2         06-06-2020     New South Wales      Australia       4075      52   \n",
       "3         07-06-2020     New South Wales      Australia       4085      53   \n",
       "4         08-06-2020     New South Wales      Australia       4121      53   \n",
       "...              ...                 ...            ...        ...     ...   \n",
       "4354      04-06-2020    Vinnytsia Oblast        Ukraine        571      16   \n",
       "4362      05-06-2020        Volyn Oblast        Ukraine      29283     477   \n",
       "4373      09-06-2020  Zakarpattia Oblast        Ukraine       9376      28   \n",
       "4374      10-06-2020  Zakarpattia Oblast        Ukraine       9084      28   \n",
       "4379      08-06-2020   Zaporizhia Oblast        Ukraine      11637      13   \n",
       "\n",
       "      Recovered  \n",
       "0          3321  \n",
       "1          3465  \n",
       "2          3494  \n",
       "3          3493  \n",
       "4          3480  \n",
       "...         ...  \n",
       "4354        427  \n",
       "4362        476  \n",
       "4373       1758  \n",
       "4374       1641  \n",
       "4379       2339  \n",
       "\n",
       "[2364 rows x 6 columns]"
      ]
     },
     "execution_count": 20,
     "metadata": {},
     "output_type": "execute_result"
    }
   ],
   "source": [
    "df1"
   ]
  },
  {
   "cell_type": "code",
   "execution_count": null,
   "id": "33c690da",
   "metadata": {},
   "outputs": [],
   "source": []
  },
  {
   "cell_type": "code",
   "execution_count": 21,
   "id": "d3facaed",
   "metadata": {},
   "outputs": [
    {
     "name": "stderr",
     "output_type": "stream",
     "text": [
      "C:\\Users\\Rohit\\anaconda3\\lib\\site-packages\\pandas\\core\\tools\\datetimes.py:1047: UserWarning: Parsing '13-03-2020' in DD/MM/YYYY format. Provide format or specify infer_datetime_format=True for consistent parsing.\n",
      "  cache_array = _maybe_cache(arg, format, cache, convert_listlike)\n",
      "C:\\Users\\Rohit\\anaconda3\\lib\\site-packages\\pandas\\core\\tools\\datetimes.py:1047: UserWarning: Parsing '14-03-2020' in DD/MM/YYYY format. Provide format or specify infer_datetime_format=True for consistent parsing.\n",
      "  cache_array = _maybe_cache(arg, format, cache, convert_listlike)\n",
      "C:\\Users\\Rohit\\anaconda3\\lib\\site-packages\\pandas\\core\\tools\\datetimes.py:1047: UserWarning: Parsing '15-03-2020' in DD/MM/YYYY format. Provide format or specify infer_datetime_format=True for consistent parsing.\n",
      "  cache_array = _maybe_cache(arg, format, cache, convert_listlike)\n",
      "C:\\Users\\Rohit\\anaconda3\\lib\\site-packages\\pandas\\core\\tools\\datetimes.py:1047: UserWarning: Parsing '16-03-2020' in DD/MM/YYYY format. Provide format or specify infer_datetime_format=True for consistent parsing.\n",
      "  cache_array = _maybe_cache(arg, format, cache, convert_listlike)\n",
      "C:\\Users\\Rohit\\anaconda3\\lib\\site-packages\\pandas\\core\\tools\\datetimes.py:1047: UserWarning: Parsing '22-03-2020' in DD/MM/YYYY format. Provide format or specify infer_datetime_format=True for consistent parsing.\n",
      "  cache_array = _maybe_cache(arg, format, cache, convert_listlike)\n",
      "C:\\Users\\Rohit\\anaconda3\\lib\\site-packages\\pandas\\core\\tools\\datetimes.py:1047: UserWarning: Parsing '23-03-2020' in DD/MM/YYYY format. Provide format or specify infer_datetime_format=True for consistent parsing.\n",
      "  cache_array = _maybe_cache(arg, format, cache, convert_listlike)\n",
      "C:\\Users\\Rohit\\anaconda3\\lib\\site-packages\\pandas\\core\\tools\\datetimes.py:1047: UserWarning: Parsing '24-03-2020' in DD/MM/YYYY format. Provide format or specify infer_datetime_format=True for consistent parsing.\n",
      "  cache_array = _maybe_cache(arg, format, cache, convert_listlike)\n",
      "C:\\Users\\Rohit\\anaconda3\\lib\\site-packages\\pandas\\core\\tools\\datetimes.py:1047: UserWarning: Parsing '25-03-2020' in DD/MM/YYYY format. Provide format or specify infer_datetime_format=True for consistent parsing.\n",
      "  cache_array = _maybe_cache(arg, format, cache, convert_listlike)\n",
      "C:\\Users\\Rohit\\anaconda3\\lib\\site-packages\\pandas\\core\\tools\\datetimes.py:1047: UserWarning: Parsing '26-03-2020' in DD/MM/YYYY format. Provide format or specify infer_datetime_format=True for consistent parsing.\n",
      "  cache_array = _maybe_cache(arg, format, cache, convert_listlike)\n",
      "C:\\Users\\Rohit\\anaconda3\\lib\\site-packages\\pandas\\core\\tools\\datetimes.py:1047: UserWarning: Parsing '27-03-2020' in DD/MM/YYYY format. Provide format or specify infer_datetime_format=True for consistent parsing.\n",
      "  cache_array = _maybe_cache(arg, format, cache, convert_listlike)\n",
      "C:\\Users\\Rohit\\anaconda3\\lib\\site-packages\\pandas\\core\\tools\\datetimes.py:1047: UserWarning: Parsing '28-03-2020' in DD/MM/YYYY format. Provide format or specify infer_datetime_format=True for consistent parsing.\n",
      "  cache_array = _maybe_cache(arg, format, cache, convert_listlike)\n",
      "C:\\Users\\Rohit\\anaconda3\\lib\\site-packages\\pandas\\core\\tools\\datetimes.py:1047: UserWarning: Parsing '14-05-2020' in DD/MM/YYYY format. Provide format or specify infer_datetime_format=True for consistent parsing.\n",
      "  cache_array = _maybe_cache(arg, format, cache, convert_listlike)\n",
      "C:\\Users\\Rohit\\anaconda3\\lib\\site-packages\\pandas\\core\\tools\\datetimes.py:1047: UserWarning: Parsing '15-05-2020' in DD/MM/YYYY format. Provide format or specify infer_datetime_format=True for consistent parsing.\n",
      "  cache_array = _maybe_cache(arg, format, cache, convert_listlike)\n",
      "C:\\Users\\Rohit\\anaconda3\\lib\\site-packages\\pandas\\core\\tools\\datetimes.py:1047: UserWarning: Parsing '16-05-2020' in DD/MM/YYYY format. Provide format or specify infer_datetime_format=True for consistent parsing.\n",
      "  cache_array = _maybe_cache(arg, format, cache, convert_listlike)\n",
      "C:\\Users\\Rohit\\anaconda3\\lib\\site-packages\\pandas\\core\\tools\\datetimes.py:1047: UserWarning: Parsing '17-05-2020' in DD/MM/YYYY format. Provide format or specify infer_datetime_format=True for consistent parsing.\n",
      "  cache_array = _maybe_cache(arg, format, cache, convert_listlike)\n",
      "C:\\Users\\Rohit\\anaconda3\\lib\\site-packages\\pandas\\core\\tools\\datetimes.py:1047: UserWarning: Parsing '18-05-2020' in DD/MM/YYYY format. Provide format or specify infer_datetime_format=True for consistent parsing.\n",
      "  cache_array = _maybe_cache(arg, format, cache, convert_listlike)\n",
      "C:\\Users\\Rohit\\anaconda3\\lib\\site-packages\\pandas\\core\\tools\\datetimes.py:1047: UserWarning: Parsing '19-05-2020' in DD/MM/YYYY format. Provide format or specify infer_datetime_format=True for consistent parsing.\n",
      "  cache_array = _maybe_cache(arg, format, cache, convert_listlike)\n",
      "C:\\Users\\Rohit\\anaconda3\\lib\\site-packages\\pandas\\core\\tools\\datetimes.py:1047: UserWarning: Parsing '20-05-2020' in DD/MM/YYYY format. Provide format or specify infer_datetime_format=True for consistent parsing.\n",
      "  cache_array = _maybe_cache(arg, format, cache, convert_listlike)\n",
      "C:\\Users\\Rohit\\anaconda3\\lib\\site-packages\\pandas\\core\\tools\\datetimes.py:1047: UserWarning: Parsing '17-03-2020' in DD/MM/YYYY format. Provide format or specify infer_datetime_format=True for consistent parsing.\n",
      "  cache_array = _maybe_cache(arg, format, cache, convert_listlike)\n",
      "C:\\Users\\Rohit\\anaconda3\\lib\\site-packages\\pandas\\core\\tools\\datetimes.py:1047: UserWarning: Parsing '18-03-2020' in DD/MM/YYYY format. Provide format or specify infer_datetime_format=True for consistent parsing.\n",
      "  cache_array = _maybe_cache(arg, format, cache, convert_listlike)\n",
      "C:\\Users\\Rohit\\anaconda3\\lib\\site-packages\\pandas\\core\\tools\\datetimes.py:1047: UserWarning: Parsing '19-03-2020' in DD/MM/YYYY format. Provide format or specify infer_datetime_format=True for consistent parsing.\n",
      "  cache_array = _maybe_cache(arg, format, cache, convert_listlike)\n",
      "C:\\Users\\Rohit\\anaconda3\\lib\\site-packages\\pandas\\core\\tools\\datetimes.py:1047: UserWarning: Parsing '20-03-2020' in DD/MM/YYYY format. Provide format or specify infer_datetime_format=True for consistent parsing.\n",
      "  cache_array = _maybe_cache(arg, format, cache, convert_listlike)\n",
      "C:\\Users\\Rohit\\anaconda3\\lib\\site-packages\\pandas\\core\\tools\\datetimes.py:1047: UserWarning: Parsing '21-03-2020' in DD/MM/YYYY format. Provide format or specify infer_datetime_format=True for consistent parsing.\n",
      "  cache_array = _maybe_cache(arg, format, cache, convert_listlike)\n",
      "C:\\Users\\Rohit\\anaconda3\\lib\\site-packages\\pandas\\core\\tools\\datetimes.py:1047: UserWarning: Parsing '31-03-2020' in DD/MM/YYYY format. Provide format or specify infer_datetime_format=True for consistent parsing.\n",
      "  cache_array = _maybe_cache(arg, format, cache, convert_listlike)\n"
     ]
    },
    {
     "data": {
      "text/html": [
       "<div>\n",
       "<style scoped>\n",
       "    .dataframe tbody tr th:only-of-type {\n",
       "        vertical-align: middle;\n",
       "    }\n",
       "\n",
       "    .dataframe tbody tr th {\n",
       "        vertical-align: top;\n",
       "    }\n",
       "\n",
       "    .dataframe thead th {\n",
       "        text-align: right;\n",
       "    }\n",
       "</style>\n",
       "<table border=\"1\" class=\"dataframe\">\n",
       "  <thead>\n",
       "    <tr style=\"text-align: right;\">\n",
       "      <th></th>\n",
       "      <th>ObservationDate</th>\n",
       "      <th>Province/State</th>\n",
       "      <th>Country/Region</th>\n",
       "      <th>Confirmed</th>\n",
       "      <th>Deaths</th>\n",
       "      <th>Recovered</th>\n",
       "      <th>Month</th>\n",
       "    </tr>\n",
       "  </thead>\n",
       "  <tbody>\n",
       "    <tr>\n",
       "      <th>0</th>\n",
       "      <td>04-06-2020</td>\n",
       "      <td>New South Wales</td>\n",
       "      <td>Australia</td>\n",
       "      <td>4019</td>\n",
       "      <td>51</td>\n",
       "      <td>3321</td>\n",
       "      <td>4</td>\n",
       "    </tr>\n",
       "    <tr>\n",
       "      <th>1</th>\n",
       "      <td>05-06-2020</td>\n",
       "      <td>New South Wales</td>\n",
       "      <td>Australia</td>\n",
       "      <td>4082</td>\n",
       "      <td>51</td>\n",
       "      <td>3465</td>\n",
       "      <td>5</td>\n",
       "    </tr>\n",
       "    <tr>\n",
       "      <th>2</th>\n",
       "      <td>06-06-2020</td>\n",
       "      <td>New South Wales</td>\n",
       "      <td>Australia</td>\n",
       "      <td>4075</td>\n",
       "      <td>52</td>\n",
       "      <td>3494</td>\n",
       "      <td>6</td>\n",
       "    </tr>\n",
       "    <tr>\n",
       "      <th>3</th>\n",
       "      <td>07-06-2020</td>\n",
       "      <td>New South Wales</td>\n",
       "      <td>Australia</td>\n",
       "      <td>4085</td>\n",
       "      <td>53</td>\n",
       "      <td>3493</td>\n",
       "      <td>7</td>\n",
       "    </tr>\n",
       "    <tr>\n",
       "      <th>4</th>\n",
       "      <td>08-06-2020</td>\n",
       "      <td>New South Wales</td>\n",
       "      <td>Australia</td>\n",
       "      <td>4121</td>\n",
       "      <td>53</td>\n",
       "      <td>3480</td>\n",
       "      <td>8</td>\n",
       "    </tr>\n",
       "    <tr>\n",
       "      <th>5</th>\n",
       "      <td>09-06-2020</td>\n",
       "      <td>New South Wales</td>\n",
       "      <td>Australia</td>\n",
       "      <td>4107</td>\n",
       "      <td>53</td>\n",
       "      <td>3457</td>\n",
       "      <td>9</td>\n",
       "    </tr>\n",
       "    <tr>\n",
       "      <th>6</th>\n",
       "      <td>10-06-2020</td>\n",
       "      <td>New South Wales</td>\n",
       "      <td>Australia</td>\n",
       "      <td>4112</td>\n",
       "      <td>53</td>\n",
       "      <td>3494</td>\n",
       "      <td>10</td>\n",
       "    </tr>\n",
       "    <tr>\n",
       "      <th>7</th>\n",
       "      <td>04-06-2020</td>\n",
       "      <td>Victoria</td>\n",
       "      <td>Australia</td>\n",
       "      <td>1995</td>\n",
       "      <td>24</td>\n",
       "      <td>1829</td>\n",
       "      <td>4</td>\n",
       "    </tr>\n",
       "    <tr>\n",
       "      <th>8</th>\n",
       "      <td>05-06-2020</td>\n",
       "      <td>Victoria</td>\n",
       "      <td>Australia</td>\n",
       "      <td>2011</td>\n",
       "      <td>24</td>\n",
       "      <td>1888</td>\n",
       "      <td>5</td>\n",
       "    </tr>\n",
       "    <tr>\n",
       "      <th>9</th>\n",
       "      <td>06-06-2020</td>\n",
       "      <td>Victoria</td>\n",
       "      <td>Australia</td>\n",
       "      <td>2021</td>\n",
       "      <td>24</td>\n",
       "      <td>1826</td>\n",
       "      <td>6</td>\n",
       "    </tr>\n",
       "  </tbody>\n",
       "</table>\n",
       "</div>"
      ],
      "text/plain": [
       "  ObservationDate   Province/State Country/Region  Confirmed  Deaths  \\\n",
       "0      04-06-2020  New South Wales      Australia       4019      51   \n",
       "1      05-06-2020  New South Wales      Australia       4082      51   \n",
       "2      06-06-2020  New South Wales      Australia       4075      52   \n",
       "3      07-06-2020  New South Wales      Australia       4085      53   \n",
       "4      08-06-2020  New South Wales      Australia       4121      53   \n",
       "5      09-06-2020  New South Wales      Australia       4107      53   \n",
       "6      10-06-2020  New South Wales      Australia       4112      53   \n",
       "7      04-06-2020         Victoria      Australia       1995      24   \n",
       "8      05-06-2020         Victoria      Australia       2011      24   \n",
       "9      06-06-2020         Victoria      Australia       2021      24   \n",
       "\n",
       "   Recovered  Month  \n",
       "0       3321      4  \n",
       "1       3465      5  \n",
       "2       3494      6  \n",
       "3       3493      7  \n",
       "4       3480      8  \n",
       "5       3457      9  \n",
       "6       3494     10  \n",
       "7       1829      4  \n",
       "8       1888      5  \n",
       "9       1826      6  "
      ]
     },
     "execution_count": 21,
     "metadata": {},
     "output_type": "execute_result"
    }
   ],
   "source": [
    "## Extracting month from date column\n",
    "df1['Month']=pd.to_datetime(df1['ObservationDate']).dt.month\n",
    "df1.head(10)"
   ]
  },
  {
   "cell_type": "code",
   "execution_count": 22,
   "id": "9764cf70",
   "metadata": {},
   "outputs": [
    {
     "data": {
      "text/html": [
       "<div>\n",
       "<style scoped>\n",
       "    .dataframe tbody tr th:only-of-type {\n",
       "        vertical-align: middle;\n",
       "    }\n",
       "\n",
       "    .dataframe tbody tr th {\n",
       "        vertical-align: top;\n",
       "    }\n",
       "\n",
       "    .dataframe thead th {\n",
       "        text-align: right;\n",
       "    }\n",
       "</style>\n",
       "<table border=\"1\" class=\"dataframe\">\n",
       "  <thead>\n",
       "    <tr style=\"text-align: right;\">\n",
       "      <th></th>\n",
       "      <th>ObservationDate</th>\n",
       "      <th>Province/State</th>\n",
       "      <th>Country/Region</th>\n",
       "      <th>Confirmed</th>\n",
       "      <th>Deaths</th>\n",
       "      <th>Recovered</th>\n",
       "      <th>Month</th>\n",
       "    </tr>\n",
       "  </thead>\n",
       "  <tbody>\n",
       "    <tr>\n",
       "      <th>0</th>\n",
       "      <td>04-06-2020</td>\n",
       "      <td>New South Wales</td>\n",
       "      <td>Australia</td>\n",
       "      <td>4019</td>\n",
       "      <td>51</td>\n",
       "      <td>3321</td>\n",
       "      <td>4</td>\n",
       "    </tr>\n",
       "    <tr>\n",
       "      <th>1</th>\n",
       "      <td>05-06-2020</td>\n",
       "      <td>New South Wales</td>\n",
       "      <td>Australia</td>\n",
       "      <td>4082</td>\n",
       "      <td>51</td>\n",
       "      <td>3465</td>\n",
       "      <td>5</td>\n",
       "    </tr>\n",
       "    <tr>\n",
       "      <th>2</th>\n",
       "      <td>06-06-2020</td>\n",
       "      <td>New South Wales</td>\n",
       "      <td>Australia</td>\n",
       "      <td>4075</td>\n",
       "      <td>52</td>\n",
       "      <td>3494</td>\n",
       "      <td>6</td>\n",
       "    </tr>\n",
       "    <tr>\n",
       "      <th>3</th>\n",
       "      <td>07-06-2020</td>\n",
       "      <td>New South Wales</td>\n",
       "      <td>Australia</td>\n",
       "      <td>4085</td>\n",
       "      <td>53</td>\n",
       "      <td>3493</td>\n",
       "      <td>7</td>\n",
       "    </tr>\n",
       "    <tr>\n",
       "      <th>4</th>\n",
       "      <td>08-06-2020</td>\n",
       "      <td>New South Wales</td>\n",
       "      <td>Australia</td>\n",
       "      <td>4121</td>\n",
       "      <td>53</td>\n",
       "      <td>3480</td>\n",
       "      <td>8</td>\n",
       "    </tr>\n",
       "    <tr>\n",
       "      <th>5</th>\n",
       "      <td>09-06-2020</td>\n",
       "      <td>New South Wales</td>\n",
       "      <td>Australia</td>\n",
       "      <td>4107</td>\n",
       "      <td>53</td>\n",
       "      <td>3457</td>\n",
       "      <td>9</td>\n",
       "    </tr>\n",
       "    <tr>\n",
       "      <th>6</th>\n",
       "      <td>10-06-2020</td>\n",
       "      <td>New South Wales</td>\n",
       "      <td>Australia</td>\n",
       "      <td>4112</td>\n",
       "      <td>53</td>\n",
       "      <td>3494</td>\n",
       "      <td>10</td>\n",
       "    </tr>\n",
       "    <tr>\n",
       "      <th>7</th>\n",
       "      <td>04-06-2020</td>\n",
       "      <td>Victoria</td>\n",
       "      <td>Australia</td>\n",
       "      <td>1995</td>\n",
       "      <td>24</td>\n",
       "      <td>1829</td>\n",
       "      <td>4</td>\n",
       "    </tr>\n",
       "    <tr>\n",
       "      <th>8</th>\n",
       "      <td>05-06-2020</td>\n",
       "      <td>Victoria</td>\n",
       "      <td>Australia</td>\n",
       "      <td>2011</td>\n",
       "      <td>24</td>\n",
       "      <td>1888</td>\n",
       "      <td>5</td>\n",
       "    </tr>\n",
       "    <tr>\n",
       "      <th>9</th>\n",
       "      <td>06-06-2020</td>\n",
       "      <td>Victoria</td>\n",
       "      <td>Australia</td>\n",
       "      <td>2021</td>\n",
       "      <td>24</td>\n",
       "      <td>1826</td>\n",
       "      <td>6</td>\n",
       "    </tr>\n",
       "  </tbody>\n",
       "</table>\n",
       "</div>"
      ],
      "text/plain": [
       "  ObservationDate   Province/State Country/Region  Confirmed  Deaths  \\\n",
       "0      04-06-2020  New South Wales      Australia       4019      51   \n",
       "1      05-06-2020  New South Wales      Australia       4082      51   \n",
       "2      06-06-2020  New South Wales      Australia       4075      52   \n",
       "3      07-06-2020  New South Wales      Australia       4085      53   \n",
       "4      08-06-2020  New South Wales      Australia       4121      53   \n",
       "5      09-06-2020  New South Wales      Australia       4107      53   \n",
       "6      10-06-2020  New South Wales      Australia       4112      53   \n",
       "7      04-06-2020         Victoria      Australia       1995      24   \n",
       "8      05-06-2020         Victoria      Australia       2011      24   \n",
       "9      06-06-2020         Victoria      Australia       2021      24   \n",
       "\n",
       "   Recovered  Month  \n",
       "0       3321      4  \n",
       "1       3465      5  \n",
       "2       3494      6  \n",
       "3       3493      7  \n",
       "4       3480      8  \n",
       "5       3457      9  \n",
       "6       3494     10  \n",
       "7       1829      4  \n",
       "8       1888      5  \n",
       "9       1826      6  "
      ]
     },
     "execution_count": 22,
     "metadata": {},
     "output_type": "execute_result"
    }
   ],
   "source": [
    "df1.head(10)"
   ]
  },
  {
   "cell_type": "code",
   "execution_count": 23,
   "id": "ca825b94",
   "metadata": {},
   "outputs": [
    {
     "data": {
      "text/html": [
       "<div>\n",
       "<style scoped>\n",
       "    .dataframe tbody tr th:only-of-type {\n",
       "        vertical-align: middle;\n",
       "    }\n",
       "\n",
       "    .dataframe tbody tr th {\n",
       "        vertical-align: top;\n",
       "    }\n",
       "\n",
       "    .dataframe thead th {\n",
       "        text-align: right;\n",
       "    }\n",
       "</style>\n",
       "<table border=\"1\" class=\"dataframe\">\n",
       "  <thead>\n",
       "    <tr style=\"text-align: right;\">\n",
       "      <th></th>\n",
       "      <th>ObservationDate</th>\n",
       "      <th>Province/State</th>\n",
       "      <th>Country/Region</th>\n",
       "      <th>Confirmed</th>\n",
       "      <th>Deaths</th>\n",
       "      <th>Recovered</th>\n",
       "      <th>Month</th>\n",
       "    </tr>\n",
       "  </thead>\n",
       "  <tbody>\n",
       "    <tr>\n",
       "      <th>0</th>\n",
       "      <td>04-06-2020</td>\n",
       "      <td>New South Wales</td>\n",
       "      <td>Australia</td>\n",
       "      <td>4019</td>\n",
       "      <td>51</td>\n",
       "      <td>3321</td>\n",
       "      <td>4</td>\n",
       "    </tr>\n",
       "    <tr>\n",
       "      <th>1</th>\n",
       "      <td>05-06-2020</td>\n",
       "      <td>New South Wales</td>\n",
       "      <td>Australia</td>\n",
       "      <td>4082</td>\n",
       "      <td>51</td>\n",
       "      <td>3465</td>\n",
       "      <td>5</td>\n",
       "    </tr>\n",
       "    <tr>\n",
       "      <th>2</th>\n",
       "      <td>06-06-2020</td>\n",
       "      <td>New South Wales</td>\n",
       "      <td>Australia</td>\n",
       "      <td>4075</td>\n",
       "      <td>52</td>\n",
       "      <td>3494</td>\n",
       "      <td>6</td>\n",
       "    </tr>\n",
       "    <tr>\n",
       "      <th>3</th>\n",
       "      <td>07-06-2020</td>\n",
       "      <td>New South Wales</td>\n",
       "      <td>Australia</td>\n",
       "      <td>4085</td>\n",
       "      <td>53</td>\n",
       "      <td>3493</td>\n",
       "      <td>7</td>\n",
       "    </tr>\n",
       "    <tr>\n",
       "      <th>4</th>\n",
       "      <td>08-06-2020</td>\n",
       "      <td>New South Wales</td>\n",
       "      <td>Australia</td>\n",
       "      <td>4121</td>\n",
       "      <td>53</td>\n",
       "      <td>3480</td>\n",
       "      <td>8</td>\n",
       "    </tr>\n",
       "    <tr>\n",
       "      <th>...</th>\n",
       "      <td>...</td>\n",
       "      <td>...</td>\n",
       "      <td>...</td>\n",
       "      <td>...</td>\n",
       "      <td>...</td>\n",
       "      <td>...</td>\n",
       "      <td>...</td>\n",
       "    </tr>\n",
       "    <tr>\n",
       "      <th>4354</th>\n",
       "      <td>04-06-2020</td>\n",
       "      <td>Vinnytsia Oblast</td>\n",
       "      <td>Ukraine</td>\n",
       "      <td>571</td>\n",
       "      <td>16</td>\n",
       "      <td>427</td>\n",
       "      <td>4</td>\n",
       "    </tr>\n",
       "    <tr>\n",
       "      <th>4362</th>\n",
       "      <td>05-06-2020</td>\n",
       "      <td>Volyn Oblast</td>\n",
       "      <td>Ukraine</td>\n",
       "      <td>29283</td>\n",
       "      <td>477</td>\n",
       "      <td>476</td>\n",
       "      <td>5</td>\n",
       "    </tr>\n",
       "    <tr>\n",
       "      <th>4373</th>\n",
       "      <td>09-06-2020</td>\n",
       "      <td>Zakarpattia Oblast</td>\n",
       "      <td>Ukraine</td>\n",
       "      <td>9376</td>\n",
       "      <td>28</td>\n",
       "      <td>1758</td>\n",
       "      <td>9</td>\n",
       "    </tr>\n",
       "    <tr>\n",
       "      <th>4374</th>\n",
       "      <td>10-06-2020</td>\n",
       "      <td>Zakarpattia Oblast</td>\n",
       "      <td>Ukraine</td>\n",
       "      <td>9084</td>\n",
       "      <td>28</td>\n",
       "      <td>1641</td>\n",
       "      <td>10</td>\n",
       "    </tr>\n",
       "    <tr>\n",
       "      <th>4379</th>\n",
       "      <td>08-06-2020</td>\n",
       "      <td>Zaporizhia Oblast</td>\n",
       "      <td>Ukraine</td>\n",
       "      <td>11637</td>\n",
       "      <td>13</td>\n",
       "      <td>2339</td>\n",
       "      <td>8</td>\n",
       "    </tr>\n",
       "  </tbody>\n",
       "</table>\n",
       "<p>2364 rows × 7 columns</p>\n",
       "</div>"
      ],
      "text/plain": [
       "     ObservationDate      Province/State Country/Region  Confirmed  Deaths  \\\n",
       "0         04-06-2020     New South Wales      Australia       4019      51   \n",
       "1         05-06-2020     New South Wales      Australia       4082      51   \n",
       "2         06-06-2020     New South Wales      Australia       4075      52   \n",
       "3         07-06-2020     New South Wales      Australia       4085      53   \n",
       "4         08-06-2020     New South Wales      Australia       4121      53   \n",
       "...              ...                 ...            ...        ...     ...   \n",
       "4354      04-06-2020    Vinnytsia Oblast        Ukraine        571      16   \n",
       "4362      05-06-2020        Volyn Oblast        Ukraine      29283     477   \n",
       "4373      09-06-2020  Zakarpattia Oblast        Ukraine       9376      28   \n",
       "4374      10-06-2020  Zakarpattia Oblast        Ukraine       9084      28   \n",
       "4379      08-06-2020   Zaporizhia Oblast        Ukraine      11637      13   \n",
       "\n",
       "      Recovered  Month  \n",
       "0          3321      4  \n",
       "1          3465      5  \n",
       "2          3494      6  \n",
       "3          3493      7  \n",
       "4          3480      8  \n",
       "...         ...    ...  \n",
       "4354        427      4  \n",
       "4362        476      5  \n",
       "4373       1758      9  \n",
       "4374       1641     10  \n",
       "4379       2339      8  \n",
       "\n",
       "[2364 rows x 7 columns]"
      ]
     },
     "execution_count": 23,
     "metadata": {},
     "output_type": "execute_result"
    }
   ],
   "source": [
    "df1"
   ]
  },
  {
   "cell_type": "code",
   "execution_count": null,
   "id": "a0494eb7",
   "metadata": {},
   "outputs": [],
   "source": []
  },
  {
   "cell_type": "code",
   "execution_count": 24,
   "id": "24a84d08",
   "metadata": {},
   "outputs": [],
   "source": [
    "# Grouping values on the basis of month\n",
    "\n",
    "con_grouped_month = df1.groupby('Month').Confirmed.sum()\n",
    "\n",
    "death_grouped_month = df1.groupby('Month').Deaths.sum()\n",
    "\n",
    "rec_grouped_month = df1.groupby('Month').Recovered.sum()"
   ]
  },
  {
   "cell_type": "code",
   "execution_count": 25,
   "id": "5f6420e7",
   "metadata": {},
   "outputs": [
    {
     "data": {
      "text/plain": [
       "Month\n",
       "1            0\n",
       "2            4\n",
       "3      1674436\n",
       "4      4092307\n",
       "5      7321576\n",
       "6     10790779\n",
       "7      7626102\n",
       "8      4993276\n",
       "9      9939752\n",
       "10     9423317\n",
       "11        1411\n",
       "12        1846\n",
       "Name: Confirmed, dtype: int64"
      ]
     },
     "execution_count": 25,
     "metadata": {},
     "output_type": "execute_result"
    }
   ],
   "source": [
    "con_grouped_month\n"
   ]
  },
  {
   "cell_type": "code",
   "execution_count": 26,
   "id": "d2ad34b6",
   "metadata": {},
   "outputs": [
    {
     "data": {
      "text/plain": [
       "Month\n",
       "1          0\n",
       "2          0\n",
       "3      37500\n",
       "4     272838\n",
       "5     557251\n",
       "6     842934\n",
       "7     363693\n",
       "8     234375\n",
       "9     302503\n",
       "10    247593\n",
       "11        24\n",
       "12        38\n",
       "Name: Deaths, dtype: int64"
      ]
     },
     "execution_count": 26,
     "metadata": {},
     "output_type": "execute_result"
    }
   ],
   "source": [
    "death_grouped_month"
   ]
  },
  {
   "cell_type": "code",
   "execution_count": 27,
   "id": "0e38ee1d",
   "metadata": {},
   "outputs": [
    {
     "data": {
      "text/plain": [
       "Month\n",
       "1            0\n",
       "2            0\n",
       "3        20921\n",
       "4      8707563\n",
       "5     15023953\n",
       "6     14081119\n",
       "7      7311027\n",
       "8      2028443\n",
       "9      6149225\n",
       "10     6883878\n",
       "11          28\n",
       "12          31\n",
       "Name: Recovered, dtype: int64"
      ]
     },
     "execution_count": 27,
     "metadata": {},
     "output_type": "execute_result"
    }
   ],
   "source": [
    "rec_grouped_month"
   ]
  },
  {
   "cell_type": "code",
   "execution_count": null,
   "id": "13f65a18",
   "metadata": {},
   "outputs": [],
   "source": []
  },
  {
   "cell_type": "code",
   "execution_count": 28,
   "id": "c115cd2b",
   "metadata": {},
   "outputs": [],
   "source": [
    "## Visualization"
   ]
  },
  {
   "cell_type": "code",
   "execution_count": null,
   "id": "16b9db4c",
   "metadata": {},
   "outputs": [],
   "source": []
  },
  {
   "cell_type": "code",
   "execution_count": 29,
   "id": "62df3678",
   "metadata": {},
   "outputs": [
    {
     "data": {
      "text/plain": [
       "Text(0.5, 1.0, 'Mothly cases')"
      ]
     },
     "execution_count": 29,
     "metadata": {},
     "output_type": "execute_result"
    },
    {
     "data": {
      "image/png": "[encoded data removed]",
      "text/plain": [
       "<Figure size 1440x720 with 1 Axes>"
      ]
     },
     "metadata": {
      "needs_background": "light"
     },
     "output_type": "display_data"
    }
   ],
   "source": [
    "# plotting bar graph for all three categories\n",
    "\n",
    "con_grouped_month.plot(kind='bar',figsize=(20,10))\n",
    "plt.xlabel(\"Month\")\n",
    "plt.ylabel(\"Confirmrd cases\")\n",
    "plt.grid(axis='y')\n",
    "plt.title(\"Mothly cases\")\n"
   ]
  },
  {
   "cell_type": "markdown",
   "id": "c5260fd2",
   "metadata": {},
   "source": [
    "### Confirmed cases started to find from 3rd month of 2020, since then case kept rising.\n",
    "### In year 2020, highest number of confirmed case found in 6th month: then cases started to decline but in 9th month there was \n",
    "### sudden rise in cases."
   ]
  },
  {
   "cell_type": "code",
   "execution_count": null,
   "id": "9c6d60e2",
   "metadata": {},
   "outputs": [],
   "source": []
  },
  {
   "cell_type": "code",
   "execution_count": 46,
   "id": "e9069af1",
   "metadata": {},
   "outputs": [
    {
     "data": {
      "text/plain": [
       "Text(0.5, 1.0, 'Monthly Death')"
      ]
     },
     "execution_count": 46,
     "metadata": {},
     "output_type": "execute_result"
    },
    {
     "data": {
      "image/png": "[encoded data removed]",
      "text/plain": [
       "<Figure size 1440x720 with 1 Axes>"
      ]
     },
     "metadata": {
      "needs_background": "light"
     },
     "output_type": "display_data"
    }
   ],
   "source": [
    "death_grouped_month.plot(kind='bar',figsize=(20,10))\n",
    "plt.xlabel(\"Month\")\n",
    "plt.ylabel(\"Deaths\")\n",
    "plt.grid(axis='y')\n",
    "plt.title(\"Monthly Death\")"
   ]
  },
  {
   "cell_type": "code",
   "execution_count": null,
   "id": "b0e97341",
   "metadata": {},
   "outputs": [],
   "source": []
  },
  {
   "cell_type": "code",
   "execution_count": 47,
   "id": "924df94d",
   "metadata": {},
   "outputs": [
    {
     "data": {
      "text/plain": [
       "Text(0.5, 1.0, 'Recovery cases')"
      ]
     },
     "execution_count": 47,
     "metadata": {},
     "output_type": "execute_result"
    },
    {
     "data": {
      "image/png": "[encoded data removed]",
      "text/plain": [
       "<Figure size 1440x720 with 1 Axes>"
      ]
     },
     "metadata": {
      "needs_background": "light"
     },
     "output_type": "display_data"
    }
   ],
   "source": [
    "rec_grouped_month.plot(kind='bar',figsize=(20,10))\n",
    "plt.xlabel(\"Month\")\n",
    "plt.ylabel(\"Monthly Recovered\")\n",
    "plt.grid(axis='y')\n",
    "plt.title(\"Recovery cases\")"
   ]
  },
  {
   "cell_type": "code",
   "execution_count": null,
   "id": "987040e8",
   "metadata": {},
   "outputs": [],
   "source": []
  },
  {
   "cell_type": "code",
   "execution_count": 32,
   "id": "091cc23c",
   "metadata": {},
   "outputs": [
    {
     "data": {
      "image/png": "[encoded data removed]",
      "text/plain": [
       "<Figure size 432x288 with 1 Axes>"
      ]
     },
     "metadata": {
      "needs_background": "light"
     },
     "output_type": "display_data"
    }
   ],
   "source": [
    "fig, ax = plt.subplots()\n",
    "\n",
    "ax.plot(con_grouped_month,label = 'Confirmed Cases')\n",
    "ax.plot(death_grouped_month,label = 'Death Toll' )\n",
    "ax.plot(rec_grouped_month, label = 'Recovered Cases')\n",
    "plt.grid(axis='y')\n",
    "plt.legend()\n",
    "plt.show()"
   ]
  },
  {
   "cell_type": "code",
   "execution_count": 33,
   "id": "244e1980",
   "metadata": {},
   "outputs": [],
   "source": [
    "### "
   ]
  },
  {
   "cell_type": "code",
   "execution_count": 34,
   "id": "103077a2",
   "metadata": {},
   "outputs": [
    {
     "name": "stdout",
     "output_type": "stream",
     "text": [
      "21\n",
      "['Australia' 'Brazil' 'Canada' 'Chile' 'Colombia' 'Denmark' 'France'\n",
      " 'Germany' 'Hong Kong' 'Italy' 'Japan' 'Macau' 'Mainland China' 'Mexico'\n",
      " 'Netherlands' 'Peru' 'Russia' 'Spain' 'UK' 'US' 'Ukraine']\n"
     ]
    }
   ],
   "source": [
    "print(df1['Country/Region'].nunique())\n",
    "print(df['Country/Region'].unique())"
   ]
  },
  {
   "cell_type": "code",
   "execution_count": null,
   "id": "5648185b",
   "metadata": {},
   "outputs": [],
   "source": []
  },
  {
   "cell_type": "code",
   "execution_count": 35,
   "id": "1b930f5e",
   "metadata": {},
   "outputs": [],
   "source": [
    "con_grouped_country = df1.groupby('Country/Region').Confirmed.sum()\n",
    "\n",
    "death_grouped_country = df1.groupby('Country/Region').Deaths.sum()\n",
    "\n",
    "rec_grouped_country = df1.groupby('Country/Region').Recovered.sum()"
   ]
  },
  {
   "cell_type": "code",
   "execution_count": null,
   "id": "aabd2194",
   "metadata": {},
   "outputs": [],
   "source": []
  },
  {
   "cell_type": "code",
   "execution_count": 50,
   "id": "6c3d3b50",
   "metadata": {},
   "outputs": [
    {
     "data": {
      "text/plain": [
       "Text(0.5, 1.0, 'Confirmed County wise cases')"
      ]
     },
     "execution_count": 50,
     "metadata": {},
     "output_type": "execute_result"
    },
    {
     "data": {
      "image/png": "[encoded data removed]",
      "text/plain": [
       "<Figure size 1440x720 with 1 Axes>"
      ]
     },
     "metadata": {
      "needs_background": "light"
     },
     "output_type": "display_data"
    }
   ],
   "source": [
    "con_grouped_country.plot(kind='bar',figsize=(20,10))\n",
    "plt.xlabel(\"Country\")\n",
    "plt.ylabel(\"Confirmrd cases\")\n",
    "plt.grid(axis='y')\n",
    "plt.title(\"Confirmed County wise cases\")\n"
   ]
  },
  {
   "cell_type": "code",
   "execution_count": null,
   "id": "a4c00d1d",
   "metadata": {},
   "outputs": [],
   "source": []
  },
  {
   "cell_type": "code",
   "execution_count": 37,
   "id": "5a871d94",
   "metadata": {},
   "outputs": [
    {
     "data": {
      "text/plain": [
       "Text(0.5, 1.0, 'Death cases')"
      ]
     },
     "execution_count": 37,
     "metadata": {},
     "output_type": "execute_result"
    },
    {
     "data": {
      "image/png": "[encoded data removed]",
      "text/plain": [
       "<Figure size 1440x720 with 1 Axes>"
      ]
     },
     "metadata": {
      "needs_background": "light"
     },
     "output_type": "display_data"
    }
   ],
   "source": [
    "death_grouped_country.plot(kind='bar',figsize=(20,10))\n",
    "plt.xlabel(\"Country\")\n",
    "plt.ylabel(\"Confirmrd Deaths\")\n",
    "plt.grid(axis='y')\n",
    "plt.title(\"Death cases\")\n"
   ]
  },
  {
   "cell_type": "code",
   "execution_count": null,
   "id": "368bf4c8",
   "metadata": {},
   "outputs": [],
   "source": []
  },
  {
   "cell_type": "code",
   "execution_count": 38,
   "id": "7fe0205b",
   "metadata": {},
   "outputs": [
    {
     "data": {
      "text/plain": [
       "Text(0.5, 1.0, 'Recovery cases')"
      ]
     },
     "execution_count": 38,
     "metadata": {},
     "output_type": "execute_result"
    },
    {
     "data": {
      "image/png": "[encoded data removed]",
      "text/plain": [
       "<Figure size 1440x720 with 1 Axes>"
      ]
     },
     "metadata": {
      "needs_background": "light"
     },
     "output_type": "display_data"
    }
   ],
   "source": [
    "rec_grouped_country.plot(kind='bar',figsize=(20,10))\n",
    "plt.xlabel(\"Country\")\n",
    "plt.ylabel(\"Confirmrd Recovery\")\n",
    "plt.grid(axis='y')\n",
    "plt.title(\"Recovery cases\")\n"
   ]
  },
  {
   "cell_type": "code",
   "execution_count": null,
   "id": "9680fc80",
   "metadata": {},
   "outputs": [],
   "source": []
  },
  {
   "cell_type": "code",
   "execution_count": 39,
   "id": "dad07b9b",
   "metadata": {},
   "outputs": [],
   "source": [
    "# Top 4 Countries provience wise visulization"
   ]
  },
  {
   "cell_type": "code",
   "execution_count": null,
   "id": "9cf82625",
   "metadata": {},
   "outputs": [],
   "source": []
  },
  {
   "cell_type": "code",
   "execution_count": 40,
   "id": "b70eb887",
   "metadata": {},
   "outputs": [],
   "source": [
    "US = df1[df1['Country/Region']=='US']"
   ]
  },
  {
   "cell_type": "code",
   "execution_count": 41,
   "id": "be1b0d6b",
   "metadata": {},
   "outputs": [
    {
     "data": {
      "text/html": [
       "<div>\n",
       "<style scoped>\n",
       "    .dataframe tbody tr th:only-of-type {\n",
       "        vertical-align: middle;\n",
       "    }\n",
       "\n",
       "    .dataframe tbody tr th {\n",
       "        vertical-align: top;\n",
       "    }\n",
       "\n",
       "    .dataframe thead th {\n",
       "        text-align: right;\n",
       "    }\n",
       "</style>\n",
       "<table border=\"1\" class=\"dataframe\">\n",
       "  <thead>\n",
       "    <tr style=\"text-align: right;\">\n",
       "      <th></th>\n",
       "      <th>ObservationDate</th>\n",
       "      <th>Province/State</th>\n",
       "      <th>Country/Region</th>\n",
       "      <th>Confirmed</th>\n",
       "      <th>Deaths</th>\n",
       "      <th>Recovered</th>\n",
       "      <th>Month</th>\n",
       "    </tr>\n",
       "  </thead>\n",
       "  <tbody>\n",
       "    <tr>\n",
       "      <th>2947</th>\n",
       "      <td>04-06-2020</td>\n",
       "      <td>Washington</td>\n",
       "      <td>US</td>\n",
       "      <td>22773</td>\n",
       "      <td>1151</td>\n",
       "      <td>0</td>\n",
       "      <td>4</td>\n",
       "    </tr>\n",
       "    <tr>\n",
       "      <th>2948</th>\n",
       "      <td>05-06-2020</td>\n",
       "      <td>Washington</td>\n",
       "      <td>US</td>\n",
       "      <td>23099</td>\n",
       "      <td>1165</td>\n",
       "      <td>0</td>\n",
       "      <td>5</td>\n",
       "    </tr>\n",
       "    <tr>\n",
       "      <th>2949</th>\n",
       "      <td>06-06-2020</td>\n",
       "      <td>Washington</td>\n",
       "      <td>US</td>\n",
       "      <td>23485</td>\n",
       "      <td>1181</td>\n",
       "      <td>0</td>\n",
       "      <td>6</td>\n",
       "    </tr>\n",
       "    <tr>\n",
       "      <th>2950</th>\n",
       "      <td>07-06-2020</td>\n",
       "      <td>Washington</td>\n",
       "      <td>US</td>\n",
       "      <td>23809</td>\n",
       "      <td>1187</td>\n",
       "      <td>0</td>\n",
       "      <td>7</td>\n",
       "    </tr>\n",
       "    <tr>\n",
       "      <th>2951</th>\n",
       "      <td>08-06-2020</td>\n",
       "      <td>Washington</td>\n",
       "      <td>US</td>\n",
       "      <td>24032</td>\n",
       "      <td>1195</td>\n",
       "      <td>0</td>\n",
       "      <td>8</td>\n",
       "    </tr>\n",
       "    <tr>\n",
       "      <th>...</th>\n",
       "      <td>...</td>\n",
       "      <td>...</td>\n",
       "      <td>...</td>\n",
       "      <td>...</td>\n",
       "      <td>...</td>\n",
       "      <td>...</td>\n",
       "      <td>...</td>\n",
       "    </tr>\n",
       "    <tr>\n",
       "      <th>4195</th>\n",
       "      <td>06-06-2020</td>\n",
       "      <td>Recovered</td>\n",
       "      <td>US</td>\n",
       "      <td>0</td>\n",
       "      <td>0</td>\n",
       "      <td>503670</td>\n",
       "      <td>6</td>\n",
       "    </tr>\n",
       "    <tr>\n",
       "      <th>4196</th>\n",
       "      <td>07-06-2020</td>\n",
       "      <td>Recovered</td>\n",
       "      <td>US</td>\n",
       "      <td>0</td>\n",
       "      <td>0</td>\n",
       "      <td>512724</td>\n",
       "      <td>7</td>\n",
       "    </tr>\n",
       "    <tr>\n",
       "      <th>4197</th>\n",
       "      <td>08-06-2020</td>\n",
       "      <td>Recovered</td>\n",
       "      <td>US</td>\n",
       "      <td>0</td>\n",
       "      <td>0</td>\n",
       "      <td>523070</td>\n",
       "      <td>8</td>\n",
       "    </tr>\n",
       "    <tr>\n",
       "      <th>4198</th>\n",
       "      <td>09-06-2020</td>\n",
       "      <td>Recovered</td>\n",
       "      <td>US</td>\n",
       "      <td>0</td>\n",
       "      <td>0</td>\n",
       "      <td>531153</td>\n",
       "      <td>9</td>\n",
       "    </tr>\n",
       "    <tr>\n",
       "      <th>4199</th>\n",
       "      <td>10-06-2020</td>\n",
       "      <td>Recovered</td>\n",
       "      <td>US</td>\n",
       "      <td>0</td>\n",
       "      <td>0</td>\n",
       "      <td>537960</td>\n",
       "      <td>10</td>\n",
       "    </tr>\n",
       "  </tbody>\n",
       "</table>\n",
       "<p>1019 rows × 7 columns</p>\n",
       "</div>"
      ],
      "text/plain": [
       "     ObservationDate Province/State Country/Region  Confirmed  Deaths  \\\n",
       "2947      04-06-2020     Washington             US      22773    1151   \n",
       "2948      05-06-2020     Washington             US      23099    1165   \n",
       "2949      06-06-2020     Washington             US      23485    1181   \n",
       "2950      07-06-2020     Washington             US      23809    1187   \n",
       "2951      08-06-2020     Washington             US      24032    1195   \n",
       "...              ...            ...            ...        ...     ...   \n",
       "4195      06-06-2020      Recovered             US          0       0   \n",
       "4196      07-06-2020      Recovered             US          0       0   \n",
       "4197      08-06-2020      Recovered             US          0       0   \n",
       "4198      09-06-2020      Recovered             US          0       0   \n",
       "4199      10-06-2020      Recovered             US          0       0   \n",
       "\n",
       "      Recovered  Month  \n",
       "2947          0      4  \n",
       "2948          0      5  \n",
       "2949          0      6  \n",
       "2950          0      7  \n",
       "2951          0      8  \n",
       "...         ...    ...  \n",
       "4195     503670      6  \n",
       "4196     512724      7  \n",
       "4197     523070      8  \n",
       "4198     531153      9  \n",
       "4199     537960     10  \n",
       "\n",
       "[1019 rows x 7 columns]"
      ]
     },
     "execution_count": 41,
     "metadata": {},
     "output_type": "execute_result"
    }
   ],
   "source": [
    "US"
   ]
  },
  {
   "cell_type": "code",
   "execution_count": 42,
   "id": "ef406122",
   "metadata": {},
   "outputs": [],
   "source": [
    "Brazil = df1[df1['Country/Region']=='Brazil']\n",
    "\n",
    "Peru = df1[df1['Country/Region']=='Peru']\n",
    "\n",
    "Spain = df1[df1['Country/Region']=='Spain']"
   ]
  },
  {
   "cell_type": "code",
   "execution_count": null,
   "id": "b4cbaf6f",
   "metadata": {},
   "outputs": [],
   "source": []
  },
  {
   "cell_type": "code",
   "execution_count": 43,
   "id": "050bdb65",
   "metadata": {},
   "outputs": [],
   "source": [
    "## For US"
   ]
  },
  {
   "cell_type": "code",
   "execution_count": 44,
   "id": "0868e5ea",
   "metadata": {},
   "outputs": [],
   "source": [
    "con_grouped_US = US.groupby('Province/State').Confirmed.sum()\n",
    "\n",
    "death_grouped_US = US.groupby('Province/State').Deaths.sum()\n",
    "\n",
    "rec_grouped_US = US.groupby('Province/State').Recovered.sum()"
   ]
  },
  {
   "cell_type": "code",
   "execution_count": null,
   "id": "944b7fae",
   "metadata": {},
   "outputs": [],
   "source": []
  },
  {
   "cell_type": "code",
   "execution_count": 51,
   "id": "3cd310b5",
   "metadata": {},
   "outputs": [
    {
     "data": {
      "image/png": "[encoded data removed]",
      "text/plain": [
       "<Figure size 432x288 with 1 Axes>"
      ]
     },
     "metadata": {},
     "output_type": "display_data"
    }
   ],
   "source": [
    "plt.title(\"US confirmed cases\")\n",
    "plt.pie(con_grouped_US)\n",
    "plt.show() "
   ]
  },
  {
   "cell_type": "code",
   "execution_count": 52,
   "id": "922c0287",
   "metadata": {},
   "outputs": [
    {
     "data": {
      "image/png": "[encoded data removed]",
      "text/plain": [
       "<Figure size 432x288 with 1 Axes>"
      ]
     },
     "metadata": {},
     "output_type": "display_data"
    }
   ],
   "source": [
    "plt.title(\"US death cases\")\n",
    "plt.pie(death_grouped_US)\n",
    "plt.show() "
   ]
  },
  {
   "cell_type": "code",
   "execution_count": 53,
   "id": "2af76e1b",
   "metadata": {},
   "outputs": [
    {
     "data": {
      "image/png": "[encoded data removed]",
      "text/plain": [
       "<Figure size 432x288 with 1 Axes>"
      ]
     },
     "metadata": {},
     "output_type": "display_data"
    }
   ],
   "source": [
    "\n",
    "plt.title(\"US recovered cases\")\n",
    "plt.pie(rec_grouped_US)\n",
    "plt.show() "
   ]
  },
  {
   "cell_type": "code",
   "execution_count": null,
   "id": "753a9b8c",
   "metadata": {},
   "outputs": [],
   "source": []
  },
  {
   "cell_type": "code",
   "execution_count": null,
   "id": "82f87318",
   "metadata": {},
   "outputs": [],
   "source": [
    "#for USA"
   ]
  },
  {
   "cell_type": "code",
   "execution_count": 54,
   "id": "29193181",
   "metadata": {},
   "outputs": [
    {
     "data": {
      "image/png": "[encoded data removed]",
      "text/plain": [
       "<Figure size 432x288 with 1 Axes>"
      ]
     },
     "metadata": {
      "needs_background": "light"
     },
     "output_type": "display_data"
    }
   ],
   "source": [
    "fig, ax = plt.subplots()\n",
    "\n",
    "ax.plot(con_grouped_US,label = 'Confirmed Cases')\n",
    "ax.plot(death_grouped_US,label = 'Death Toll' )\n",
    "ax.plot(rec_grouped_US, label = 'Recovered Cases')\n",
    "plt.grid(axis='y')\n",
    "plt.legend()\n",
    "plt.show()"
   ]
  },
  {
   "cell_type": "code",
   "execution_count": null,
   "id": "462d1823",
   "metadata": {},
   "outputs": [],
   "source": []
  },
  {
   "cell_type": "code",
   "execution_count": null,
   "id": "83451462",
   "metadata": {},
   "outputs": [],
   "source": [
    "# For Brazil"
   ]
  },
  {
   "cell_type": "code",
   "execution_count": 55,
   "id": "80167adf",
   "metadata": {},
   "outputs": [],
   "source": [
    "con_grouped_Brazil = Brazil.groupby('Province/State').Confirmed.sum()\n",
    "\n",
    "death_grouped_Brazil = Brazil.groupby('Province/State').Deaths.sum()\n",
    "\n",
    "rec_grouped_Brazil = Brazil.groupby('Province/State').Recovered.sum()\n"
   ]
  },
  {
   "cell_type": "code",
   "execution_count": 56,
   "id": "85c9f997",
   "metadata": {},
   "outputs": [
    {
     "data": {
      "image/png": "[encoded data removed]",
      "text/plain": [
       "<Figure size 432x288 with 1 Axes>"
      ]
     },
     "metadata": {
      "needs_background": "light"
     },
     "output_type": "display_data"
    }
   ],
   "source": [
    "fig, ax = plt.subplots()\n",
    "\n",
    "ax.plot(con_grouped_Brazil,label = 'Confirmed Cases')\n",
    "ax.plot(death_grouped_Brazil,label = 'Death Toll' )\n",
    "ax.plot(rec_grouped_Brazil, label = 'Recovered Cases')\n",
    "plt.grid(axis='y')\n",
    "plt.xticks(rotation=89)\n",
    "plt.legend()\n",
    "plt.show()\n"
   ]
  },
  {
   "cell_type": "code",
   "execution_count": null,
   "id": "f31c2cc7",
   "metadata": {},
   "outputs": [],
   "source": []
  },
  {
   "cell_type": "code",
   "execution_count": null,
   "id": "f4324889",
   "metadata": {},
   "outputs": [],
   "source": [
    "# For Peru"
   ]
  },
  {
   "cell_type": "code",
   "execution_count": 57,
   "id": "bb377ac8",
   "metadata": {},
   "outputs": [],
   "source": [
    "con_grouped_Peru = Peru.groupby('Province/State').Confirmed.sum()\n",
    "\n",
    "death_grouped_Peru = Peru.groupby('Province/State').Deaths.sum()\n",
    "\n",
    "rec_grouped_Peru = Peru.groupby('Province/State').Recovered.sum()\n"
   ]
  },
  {
   "cell_type": "code",
   "execution_count": 58,
   "id": "4c135c11",
   "metadata": {},
   "outputs": [
    {
     "data": {
      "image/png": "[encoded data removed]",
      "text/plain": [
       "<Figure size 432x288 with 1 Axes>"
      ]
     },
     "metadata": {
      "needs_background": "light"
     },
     "output_type": "display_data"
    }
   ],
   "source": [
    "fig, ax = plt.subplots()\n",
    "\n",
    "ax.plot(con_grouped_Peru,label = 'Confirmed Cases')\n",
    "ax.plot(death_grouped_Peru,label = 'Death Toll' )\n",
    "ax.plot(rec_grouped_Peru, label = 'Recovered Cases')\n",
    "plt.grid(axis='y')\n",
    "plt.xticks(rotation=89)\n",
    "plt.legend()\n",
    "plt.show()\n"
   ]
  },
  {
   "cell_type": "code",
   "execution_count": null,
   "id": "fd13f79a",
   "metadata": {},
   "outputs": [],
   "source": []
  },
  {
   "cell_type": "code",
   "execution_count": null,
   "id": "723f5f95",
   "metadata": {},
   "outputs": [],
   "source": [
    "# For Spain"
   ]
  },
  {
   "cell_type": "code",
   "execution_count": 59,
   "id": "19ab6323",
   "metadata": {},
   "outputs": [],
   "source": [
    "con_grouped_Spain = Spain.groupby('Province/State').Confirmed.sum()\n",
    "\n",
    "death_grouped_Spain = Spain.groupby('Province/State').Deaths.sum()\n",
    "\n",
    "rec_grouped_Spain = Spain.groupby('Province/State').Recovered.sum()\n"
   ]
  },
  {
   "cell_type": "code",
   "execution_count": 60,
   "id": "6b39f6fc",
   "metadata": {},
   "outputs": [
    {
     "data": {
      "image/png": "[encoded data removed]",
      "text/plain": [
       "<Figure size 432x288 with 1 Axes>"
      ]
     },
     "metadata": {
      "needs_background": "light"
     },
     "output_type": "display_data"
    }
   ],
   "source": [
    "fig, ax = plt.subplots()\n",
    "\n",
    "ax.plot(con_grouped_Spain,label = 'Confirmed Cases')\n",
    "ax.plot(death_grouped_Spain,label = 'Death Toll' )\n",
    "ax.plot(rec_grouped_Spain, label = 'Recovered Cases')\n",
    "plt.grid(axis='y')\n",
    "plt.xticks(rotation=89)\n",
    "plt.legend()\n",
    "plt.show()\n"
   ]
  },
  {
   "cell_type": "markdown",
   "id": "43851aa8",
   "metadata": {},
   "source": [
    "Conclusion – \n",
    "1.\tSpain has highest number of recovered cases.\n",
    "2.\tBrazil and Us has highest number of confirmed cases.\n",
    "3.\tSpain and Us has highest number of deaths.\n",
    "4.\tConfirmed cases started to find from 3rd month of 2020, since then case kept rising.\n",
    "5.\tIn year 2020, highest number of confirmed cases found in 6th month: then cases started to decline but in 9th month there was sudden rise in cases.\n",
    "6.\tAfter 10th month there is sudden fall started in case according to data\n",
    "7.\tFor deaths from 3rd months started peoples dying. In 6th month more than 800000 peoples are died and this is peak. After 6th month graph felled down.\n",
    "8.\tOn the graph observation saw that majority people recovered in 5th and 6th month 2020 \n"
   ]
  },
  {
   "cell_type": "code",
   "execution_count": null,
   "id": "1d99e2e4",
   "metadata": {},
   "outputs": [],
   "source": []
  }
 ],
 "metadata": {
  "kernelspec": {
   "display_name": "Python 3 (ipykernel)",
   "language": "python",
   "name": "python3"
  },
  "language_info": {
   "codemirror_mode": {
    "name": "ipython",
    "version": 3
   },
   "file_extension": ".py",
   "mimetype": "text/x-python",
   "name": "python",
   "nbconvert_exporter": "python",
   "pygments_lexer": "ipython3",
   "version": "3.9.12"
  }
 },
 "nbformat": 4,
 "nbformat_minor": 5
}
